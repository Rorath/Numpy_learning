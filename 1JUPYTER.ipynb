{
 "cells": [
  {
   "cell_type": "markdown",
   "id": "314657f299466371",
   "metadata": {},
   "source": [
    "## this is my first .ipynb"
   ]
  },
  {
   "cell_type": "code",
   "id": "d76f15b375b51af1",
   "metadata": {
    "ExecuteTime": {
     "end_time": "2025-10-28T14:17:32.157500Z",
     "start_time": "2025-10-28T14:17:32.154460Z"
    }
   },
   "source": [
    "print('hello vscode')"
   ],
   "outputs": [
    {
     "name": "stdout",
     "output_type": "stream",
     "text": [
      "hello vscode\n"
     ]
    }
   ],
   "execution_count": 1
  },
  {
   "cell_type": "code",
   "id": "80c27f06",
   "metadata": {
    "ExecuteTime": {
     "end_time": "2025-10-30T10:50:19.942459Z",
     "start_time": "2025-10-30T10:50:19.938198Z"
    }
   },
   "source": [
    "import numpy as np\n",
    "import random\n",
    "a = np.array([[0 for _ in range(3)] for _ in range(3)])\n",
    "a += random.randint(1,10)\n",
    "print(a)"
   ],
   "outputs": [
    {
     "name": "stdout",
     "output_type": "stream",
     "text": [
      "[[1 1 1]\n",
      " [1 1 1]\n",
      " [1 1 1]]\n"
     ]
    }
   ],
   "execution_count": 2
  },
  {
   "metadata": {},
   "cell_type": "code",
   "outputs": [],
   "execution_count": null,
   "source": "",
   "id": "a8474a98e254d7ae"
  }
 ],
 "metadata": {
  "kernelspec": {
   "display_name": "Python 3 (ipykernel)",
   "language": "python",
   "name": "python3"
  },
  "language_info": {
   "codemirror_mode": {
    "name": "ipython",
    "version": 3
   },
   "file_extension": ".py",
   "mimetype": "text/x-python",
   "name": "python",
   "nbconvert_exporter": "python",
   "pygments_lexer": "ipython3",
   "version": "3.13.5"
  }
 },
 "nbformat": 4,
 "nbformat_minor": 5
}
